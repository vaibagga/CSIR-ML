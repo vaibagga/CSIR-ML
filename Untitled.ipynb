{
 "cells": [
  {
   "cell_type": "code",
   "execution_count": 81,
   "metadata": {},
   "outputs": [],
   "source": [
    "import numpy as np \n",
    "import matplotlib.pyplot as plt\n",
    "import pandas as pd\n",
    "import os\n",
    "from sklearn.preprocessing import LabelEncoder, OneHotEncoder\n",
    "from sklearn.model_selection import train_test_split\n",
    "import tensorflow as tf\n",
    "from tensorflow.keras.models import Sequential\n",
    "from tensorflow.keras.layers import Dense\n",
    "from tensorflow.keras.layers import Dropout\n",
    "from tensorflow.keras.utils import plot_model\n",
    "import warnings\n",
    "warnings.filterwarnings(\"ignore\", category=DeprecationWarning) "
   ]
  },
  {
   "cell_type": "code",
   "execution_count": 72,
   "metadata": {},
   "outputs": [
    {
     "name": "stdout",
     "output_type": "stream",
     "text": [
      "Using CPU\n"
     ]
    }
   ],
   "source": [
    "print(\"Using GPU\" if tf.test.is_built_with_cuda() else \"Using CPU\")"
   ]
  },
  {
   "cell_type": "code",
   "execution_count": 88,
   "metadata": {},
   "outputs": [
    {
     "data": {
      "text/html": [
       "<div>\n",
       "<style scoped>\n",
       "    .dataframe tbody tr th:only-of-type {\n",
       "        vertical-align: middle;\n",
       "    }\n",
       "\n",
       "    .dataframe tbody tr th {\n",
       "        vertical-align: top;\n",
       "    }\n",
       "\n",
       "    .dataframe thead th {\n",
       "        text-align: right;\n",
       "    }\n",
       "</style>\n",
       "<table border=\"1\" class=\"dataframe\">\n",
       "  <thead>\n",
       "    <tr style=\"text-align: right;\">\n",
       "      <th></th>\n",
       "      <th>RowNumber</th>\n",
       "      <th>CustomerId</th>\n",
       "      <th>Surname</th>\n",
       "      <th>CreditScore</th>\n",
       "      <th>Geography</th>\n",
       "      <th>Gender</th>\n",
       "      <th>Age</th>\n",
       "      <th>Tenure</th>\n",
       "      <th>Balance</th>\n",
       "      <th>NumOfProducts</th>\n",
       "      <th>HasCrCard</th>\n",
       "      <th>IsActiveMember</th>\n",
       "      <th>EstimatedSalary</th>\n",
       "      <th>Exited</th>\n",
       "    </tr>\n",
       "  </thead>\n",
       "  <tbody>\n",
       "    <tr>\n",
       "      <td>0</td>\n",
       "      <td>1</td>\n",
       "      <td>15634602</td>\n",
       "      <td>Hargrave</td>\n",
       "      <td>619</td>\n",
       "      <td>France</td>\n",
       "      <td>Female</td>\n",
       "      <td>42</td>\n",
       "      <td>2</td>\n",
       "      <td>0.00</td>\n",
       "      <td>1</td>\n",
       "      <td>1</td>\n",
       "      <td>1</td>\n",
       "      <td>101348.88</td>\n",
       "      <td>1</td>\n",
       "    </tr>\n",
       "    <tr>\n",
       "      <td>1</td>\n",
       "      <td>2</td>\n",
       "      <td>15647311</td>\n",
       "      <td>Hill</td>\n",
       "      <td>608</td>\n",
       "      <td>Spain</td>\n",
       "      <td>Female</td>\n",
       "      <td>41</td>\n",
       "      <td>1</td>\n",
       "      <td>83807.86</td>\n",
       "      <td>1</td>\n",
       "      <td>0</td>\n",
       "      <td>1</td>\n",
       "      <td>112542.58</td>\n",
       "      <td>0</td>\n",
       "    </tr>\n",
       "    <tr>\n",
       "      <td>2</td>\n",
       "      <td>3</td>\n",
       "      <td>15619304</td>\n",
       "      <td>Onio</td>\n",
       "      <td>502</td>\n",
       "      <td>France</td>\n",
       "      <td>Female</td>\n",
       "      <td>42</td>\n",
       "      <td>8</td>\n",
       "      <td>159660.80</td>\n",
       "      <td>3</td>\n",
       "      <td>1</td>\n",
       "      <td>0</td>\n",
       "      <td>113931.57</td>\n",
       "      <td>1</td>\n",
       "    </tr>\n",
       "    <tr>\n",
       "      <td>3</td>\n",
       "      <td>4</td>\n",
       "      <td>15701354</td>\n",
       "      <td>Boni</td>\n",
       "      <td>699</td>\n",
       "      <td>France</td>\n",
       "      <td>Female</td>\n",
       "      <td>39</td>\n",
       "      <td>1</td>\n",
       "      <td>0.00</td>\n",
       "      <td>2</td>\n",
       "      <td>0</td>\n",
       "      <td>0</td>\n",
       "      <td>93826.63</td>\n",
       "      <td>0</td>\n",
       "    </tr>\n",
       "    <tr>\n",
       "      <td>4</td>\n",
       "      <td>5</td>\n",
       "      <td>15737888</td>\n",
       "      <td>Mitchell</td>\n",
       "      <td>850</td>\n",
       "      <td>Spain</td>\n",
       "      <td>Female</td>\n",
       "      <td>43</td>\n",
       "      <td>2</td>\n",
       "      <td>125510.82</td>\n",
       "      <td>1</td>\n",
       "      <td>1</td>\n",
       "      <td>1</td>\n",
       "      <td>79084.10</td>\n",
       "      <td>0</td>\n",
       "    </tr>\n",
       "  </tbody>\n",
       "</table>\n",
       "</div>"
      ],
      "text/plain": [
       "   RowNumber  CustomerId   Surname  CreditScore Geography  Gender  Age  \\\n",
       "0          1    15634602  Hargrave          619    France  Female   42   \n",
       "1          2    15647311      Hill          608     Spain  Female   41   \n",
       "2          3    15619304      Onio          502    France  Female   42   \n",
       "3          4    15701354      Boni          699    France  Female   39   \n",
       "4          5    15737888  Mitchell          850     Spain  Female   43   \n",
       "\n",
       "   Tenure    Balance  NumOfProducts  HasCrCard  IsActiveMember  \\\n",
       "0       2       0.00              1          1               1   \n",
       "1       1   83807.86              1          0               1   \n",
       "2       8  159660.80              3          1               0   \n",
       "3       1       0.00              2          0               0   \n",
       "4       2  125510.82              1          1               1   \n",
       "\n",
       "   EstimatedSalary  Exited  \n",
       "0        101348.88       1  \n",
       "1        112542.58       0  \n",
       "2        113931.57       1  \n",
       "3         93826.63       0  \n",
       "4         79084.10       0  "
      ]
     },
     "execution_count": 88,
     "metadata": {},
     "output_type": "execute_result"
    }
   ],
   "source": [
    "## dataset\n",
    "dataset = pd.read_csv('Churn Modeling.csv')\n",
    "dataset.head()"
   ]
  },
  {
   "cell_type": "code",
   "execution_count": 73,
   "metadata": {},
   "outputs": [],
   "source": [
    "## input variable\n",
    "X = dataset.iloc[:, 3:13].values\n",
    "## target variable\n",
    "y = dataset.iloc[:, 13].values"
   ]
  },
  {
   "cell_type": "code",
   "execution_count": 74,
   "metadata": {},
   "outputs": [
    {
     "name": "stdout",
     "output_type": "stream",
     "text": [
      "Number of Rows = 10000 \n",
      "Number of columns = 14\n"
     ]
    }
   ],
   "source": [
    "print(\"Number of Rows =\", dataset.shape[0], \"\\nNumber of columns =\", dataset.shape[1])"
   ]
  },
  {
   "cell_type": "code",
   "execution_count": 75,
   "metadata": {},
   "outputs": [],
   "source": [
    "le_1 = LabelEncoder()\n",
    "X[:,1] = le_1.fit_transform(X[:,1])\n",
    "le_2 = LabelEncoder()\n",
    "X[:,2] = le_2.fit_transform(X[:,2])"
   ]
  },
  {
   "cell_type": "code",
   "execution_count": 89,
   "metadata": {
    "scrolled": true
   },
   "outputs": [],
   "source": [
    "X_train,X_test,y_train,y_test = train_test_split(X,y,test_size = 0.15,random_state = 0)"
   ]
  },
  {
   "cell_type": "code",
   "execution_count": 90,
   "metadata": {},
   "outputs": [],
   "source": [
    "from sklearn.preprocessing import StandardScaler\n",
    "sc = StandardScaler()\n",
    "X_train = sc.fit_transform(X_train)\n",
    "X_test = sc.fit_transform(X_test)"
   ]
  },
  {
   "cell_type": "code",
   "execution_count": 91,
   "metadata": {},
   "outputs": [],
   "source": [
    "classifier = Sequential()\n",
    "classifier.add(Dense(activation = 'relu', input_dim = 10, units = 6, kernel_initializer = 'lecun_normal'))\n",
    "classifier.add(Dropout(rate = 0.1))\n",
    "#Adding the second hidden layer\n",
    "classifier.add(Dense(activation='relu', units = 6, kernel_initializer=\"lecun_normal\"))\n",
    "classifier.add(Dropout(rate = 0.1))\n",
    "#Adding the third hidden layer\n",
    "classifier.add(Dense(activation = 'relu', units = 6, kernel_initializer = 'lecun_normal'))\n",
    "classifier.add(Dropout(rate  =0.1))\n",
    "#Adding the fourth hidden layer\n",
    "classifier.add(Dense(activation = 'relu', units = 6, kernel_initializer = 'lecun_normal'))\n",
    "classifier.add(Dropout(rate  =0.1))\n",
    "#Adding the output layer\n",
    "classifier.add(Dense(activation = 'sigmoid', units = 1, kernel_initializer = 'uniform'))"
   ]
  },
  {
   "cell_type": "code",
   "execution_count": 92,
   "metadata": {},
   "outputs": [
    {
     "name": "stdout",
     "output_type": "stream",
     "text": [
      "Model: \"sequential_6\"\n",
      "_________________________________________________________________\n",
      "Layer (type)                 Output Shape              Param #   \n",
      "=================================================================\n",
      "dense_30 (Dense)             (None, 6)                 66        \n",
      "_________________________________________________________________\n",
      "dropout_24 (Dropout)         (None, 6)                 0         \n",
      "_________________________________________________________________\n",
      "dense_31 (Dense)             (None, 6)                 42        \n",
      "_________________________________________________________________\n",
      "dropout_25 (Dropout)         (None, 6)                 0         \n",
      "_________________________________________________________________\n",
      "dense_32 (Dense)             (None, 6)                 42        \n",
      "_________________________________________________________________\n",
      "dropout_26 (Dropout)         (None, 6)                 0         \n",
      "_________________________________________________________________\n",
      "dense_33 (Dense)             (None, 6)                 42        \n",
      "_________________________________________________________________\n",
      "dropout_27 (Dropout)         (None, 6)                 0         \n",
      "_________________________________________________________________\n",
      "dense_34 (Dense)             (None, 1)                 7         \n",
      "=================================================================\n",
      "Total params: 199\n",
      "Trainable params: 199\n",
      "Non-trainable params: 0\n",
      "_________________________________________________________________\n"
     ]
    }
   ],
   "source": [
    "classifier.summary()"
   ]
  },
  {
   "cell_type": "code",
   "execution_count": 93,
   "metadata": {},
   "outputs": [],
   "source": [
    "classifier.compile(optimizer = 'adam', loss = 'binary_crossentropy', metrics = ['accuracy'])"
   ]
  },
  {
   "cell_type": "code",
   "execution_count": 94,
   "metadata": {},
   "outputs": [
    {
     "name": "stdout",
     "output_type": "stream",
     "text": [
      "Train on 6375 samples, validate on 2125 samples\n",
      "Epoch 1/100\n",
      "6375/6375 [==============================] - 1s 98us/sample - loss: 0.5830 - acc: 0.7955 - val_loss: 0.4873 - val_acc: 0.7991\n",
      "Epoch 2/100\n",
      "6375/6375 [==============================] - 0s 42us/sample - loss: 0.4940 - acc: 0.7955 - val_loss: 0.4581 - val_acc: 0.7991\n",
      "Epoch 3/100\n",
      "6375/6375 [==============================] - 0s 40us/sample - loss: 0.4673 - acc: 0.7955 - val_loss: 0.4495 - val_acc: 0.7991\n",
      "Epoch 4/100\n",
      "6375/6375 [==============================] - 0s 40us/sample - loss: 0.4607 - acc: 0.7955 - val_loss: 0.4443 - val_acc: 0.7991\n",
      "Epoch 5/100\n",
      "6375/6375 [==============================] - 0s 42us/sample - loss: 0.4540 - acc: 0.7955 - val_loss: 0.4418 - val_acc: 0.7991\n",
      "Epoch 6/100\n",
      "6375/6375 [==============================] - 0s 42us/sample - loss: 0.4531 - acc: 0.7955 - val_loss: 0.4411 - val_acc: 0.7991\n",
      "Epoch 7/100\n",
      "6375/6375 [==============================] - 0s 49us/sample - loss: 0.4512 - acc: 0.7955 - val_loss: 0.4387 - val_acc: 0.7991\n",
      "Epoch 8/100\n",
      "6375/6375 [==============================] - 0s 54us/sample - loss: 0.4434 - acc: 0.7955 - val_loss: 0.4373 - val_acc: 0.7991\n",
      "Epoch 9/100\n",
      "6375/6375 [==============================] - 0s 55us/sample - loss: 0.4495 - acc: 0.7955 - val_loss: 0.4361 - val_acc: 0.7991\n",
      "Epoch 10/100\n",
      "6375/6375 [==============================] - 0s 53us/sample - loss: 0.4447 - acc: 0.7955 - val_loss: 0.4362 - val_acc: 0.7991\n",
      "Epoch 11/100\n",
      "6375/6375 [==============================] - 0s 53us/sample - loss: 0.4425 - acc: 0.7955 - val_loss: 0.4355 - val_acc: 0.7991\n",
      "Epoch 12/100\n",
      "6375/6375 [==============================] - 0s 54us/sample - loss: 0.4432 - acc: 0.7955 - val_loss: 0.4358 - val_acc: 0.7991\n",
      "Epoch 13/100\n",
      "6375/6375 [==============================] - 0s 53us/sample - loss: 0.4389 - acc: 0.7955 - val_loss: 0.4351 - val_acc: 0.7991\n",
      "Epoch 14/100\n",
      "6375/6375 [==============================] - 0s 53us/sample - loss: 0.4440 - acc: 0.7955 - val_loss: 0.4389 - val_acc: 0.7991\n",
      "Epoch 15/100\n",
      "6375/6375 [==============================] - 0s 59us/sample - loss: 0.4414 - acc: 0.7955 - val_loss: 0.4354 - val_acc: 0.7991\n",
      "Epoch 16/100\n",
      "6375/6375 [==============================] - 0s 52us/sample - loss: 0.4435 - acc: 0.7955 - val_loss: 0.4353 - val_acc: 0.7991\n",
      "Epoch 17/100\n",
      "6375/6375 [==============================] - 0s 53us/sample - loss: 0.4404 - acc: 0.7955 - val_loss: 0.4354 - val_acc: 0.7991\n",
      "Epoch 18/100\n",
      "6375/6375 [==============================] - 0s 55us/sample - loss: 0.4420 - acc: 0.7955 - val_loss: 0.4354 - val_acc: 0.7991\n",
      "Epoch 19/100\n",
      "6375/6375 [==============================] - 0s 55us/sample - loss: 0.4412 - acc: 0.7955 - val_loss: 0.4376 - val_acc: 0.7991\n",
      "Epoch 20/100\n",
      "6375/6375 [==============================] - 0s 54us/sample - loss: 0.4432 - acc: 0.7955 - val_loss: 0.4362 - val_acc: 0.7991\n",
      "Epoch 21/100\n",
      "6375/6375 [==============================] - 0s 54us/sample - loss: 0.4407 - acc: 0.7955 - val_loss: 0.4359 - val_acc: 0.7991\n",
      "Epoch 22/100\n",
      "6375/6375 [==============================] - 0s 53us/sample - loss: 0.4406 - acc: 0.7955 - val_loss: 0.4355 - val_acc: 0.7991\n",
      "Epoch 23/100\n",
      "6375/6375 [==============================] - 0s 53us/sample - loss: 0.4414 - acc: 0.7955 - val_loss: 0.4353 - val_acc: 0.7991\n",
      "Epoch 24/100\n",
      "6375/6375 [==============================] - 0s 55us/sample - loss: 0.4384 - acc: 0.7955 - val_loss: 0.4352 - val_acc: 0.7991\n",
      "Epoch 25/100\n",
      "6375/6375 [==============================] - 0s 54us/sample - loss: 0.4435 - acc: 0.7955 - val_loss: 0.4370 - val_acc: 0.7991\n",
      "Epoch 26/100\n",
      "6375/6375 [==============================] - 0s 54us/sample - loss: 0.4382 - acc: 0.7955 - val_loss: 0.4351 - val_acc: 0.7991\n",
      "Epoch 27/100\n",
      "6375/6375 [==============================] - 0s 54us/sample - loss: 0.4435 - acc: 0.7955 - val_loss: 0.4356 - val_acc: 0.7991\n",
      "Epoch 28/100\n",
      "6375/6375 [==============================] - 0s 53us/sample - loss: 0.4403 - acc: 0.7955 - val_loss: 0.4345 - val_acc: 0.7991\n",
      "Epoch 29/100\n",
      "6375/6375 [==============================] - 0s 54us/sample - loss: 0.4412 - acc: 0.7955 - val_loss: 0.4370 - val_acc: 0.7991\n",
      "Epoch 30/100\n",
      "6375/6375 [==============================] - 0s 55us/sample - loss: 0.4392 - acc: 0.7955 - val_loss: 0.4361 - val_acc: 0.7991\n",
      "Epoch 31/100\n",
      "6375/6375 [==============================] - 0s 55us/sample - loss: 0.4402 - acc: 0.7955 - val_loss: 0.4361 - val_acc: 0.7991\n",
      "Epoch 32/100\n",
      "6375/6375 [==============================] - 0s 55us/sample - loss: 0.4375 - acc: 0.7955 - val_loss: 0.4345 - val_acc: 0.7991\n",
      "Epoch 33/100\n",
      "6375/6375 [==============================] - 0s 55us/sample - loss: 0.4415 - acc: 0.7955 - val_loss: 0.4349 - val_acc: 0.7991\n",
      "Epoch 34/100\n",
      "6375/6375 [==============================] - 0s 53us/sample - loss: 0.4381 - acc: 0.7955 - val_loss: 0.4345 - val_acc: 0.7991\n",
      "Epoch 35/100\n",
      "6375/6375 [==============================] - 0s 54us/sample - loss: 0.4359 - acc: 0.7955 - val_loss: 0.4341 - val_acc: 0.7991\n",
      "Epoch 36/100\n",
      "6375/6375 [==============================] - 0s 55us/sample - loss: 0.4380 - acc: 0.7955 - val_loss: 0.4336 - val_acc: 0.7991\n",
      "Epoch 37/100\n",
      "6375/6375 [==============================] - 0s 54us/sample - loss: 0.4350 - acc: 0.7955 - val_loss: 0.4334 - val_acc: 0.7991\n",
      "Epoch 38/100\n",
      "6375/6375 [==============================] - 0s 55us/sample - loss: 0.4384 - acc: 0.7955 - val_loss: 0.4333 - val_acc: 0.7991\n",
      "Epoch 39/100\n",
      "6375/6375 [==============================] - 0s 53us/sample - loss: 0.4364 - acc: 0.7955 - val_loss: 0.4337 - val_acc: 0.7991\n",
      "Epoch 40/100\n",
      "6375/6375 [==============================] - 0s 55us/sample - loss: 0.4348 - acc: 0.7955 - val_loss: 0.4329 - val_acc: 0.7991\n",
      "Epoch 41/100\n",
      "6375/6375 [==============================] - 0s 56us/sample - loss: 0.4351 - acc: 0.7955 - val_loss: 0.4342 - val_acc: 0.7991\n",
      "Epoch 42/100\n",
      "6375/6375 [==============================] - 0s 55us/sample - loss: 0.4351 - acc: 0.7955 - val_loss: 0.4319 - val_acc: 0.7991\n",
      "Epoch 43/100\n",
      "6375/6375 [==============================] - 0s 61us/sample - loss: 0.4347 - acc: 0.7955 - val_loss: 0.4325 - val_acc: 0.7991\n",
      "Epoch 44/100\n",
      "6375/6375 [==============================] - 0s 56us/sample - loss: 0.4347 - acc: 0.7955 - val_loss: 0.4320 - val_acc: 0.7991\n",
      "Epoch 45/100\n",
      "6375/6375 [==============================] - 0s 56us/sample - loss: 0.4369 - acc: 0.7955 - val_loss: 0.4315 - val_acc: 0.7991\n",
      "Epoch 46/100\n",
      "6375/6375 [==============================] - 0s 58us/sample - loss: 0.4351 - acc: 0.7955 - val_loss: 0.4347 - val_acc: 0.7991\n",
      "Epoch 47/100\n",
      "6375/6375 [==============================] - 0s 59us/sample - loss: 0.4324 - acc: 0.7955 - val_loss: 0.4329 - val_acc: 0.7991\n",
      "Epoch 48/100\n",
      "6375/6375 [==============================] - 0s 56us/sample - loss: 0.4325 - acc: 0.7955 - val_loss: 0.4345 - val_acc: 0.7991\n",
      "Epoch 49/100\n",
      "6375/6375 [==============================] - 0s 61us/sample - loss: 0.4339 - acc: 0.7955 - val_loss: 0.4319 - val_acc: 0.7991\n",
      "Epoch 50/100\n",
      "6375/6375 [==============================] - 0s 59us/sample - loss: 0.4305 - acc: 0.7955 - val_loss: 0.4308 - val_acc: 0.7991\n",
      "Epoch 51/100\n",
      "6375/6375 [==============================] - 0s 55us/sample - loss: 0.4337 - acc: 0.7955 - val_loss: 0.4308 - val_acc: 0.7991\n",
      "Epoch 52/100\n",
      "6375/6375 [==============================] - 0s 59us/sample - loss: 0.4351 - acc: 0.7955 - val_loss: 0.4351 - val_acc: 0.7991\n",
      "Epoch 53/100\n",
      "6375/6375 [==============================] - 0s 58us/sample - loss: 0.4319 - acc: 0.7955 - val_loss: 0.4312 - val_acc: 0.7991\n",
      "Epoch 54/100\n",
      "6375/6375 [==============================] - 0s 59us/sample - loss: 0.4319 - acc: 0.7955 - val_loss: 0.4307 - val_acc: 0.7991\n",
      "Epoch 55/100\n",
      "6375/6375 [==============================] - 0s 59us/sample - loss: 0.4352 - acc: 0.7955 - val_loss: 0.4311 - val_acc: 0.7991\n",
      "Epoch 56/100\n",
      "6375/6375 [==============================] - 0s 56us/sample - loss: 0.4338 - acc: 0.7955 - val_loss: 0.4304 - val_acc: 0.7991\n",
      "Epoch 57/100\n",
      "6375/6375 [==============================] - 0s 58us/sample - loss: 0.4340 - acc: 0.7955 - val_loss: 0.4321 - val_acc: 0.7991\n",
      "Epoch 58/100\n",
      "6375/6375 [==============================] - 0s 60us/sample - loss: 0.4328 - acc: 0.7955 - val_loss: 0.4303 - val_acc: 0.7991\n",
      "Epoch 59/100\n"
     ]
    },
    {
     "name": "stdout",
     "output_type": "stream",
     "text": [
      "6375/6375 [==============================] - 0s 53us/sample - loss: 0.4320 - acc: 0.7955 - val_loss: 0.4292 - val_acc: 0.7991\n",
      "Epoch 60/100\n",
      "6375/6375 [==============================] - 0s 50us/sample - loss: 0.4343 - acc: 0.7955 - val_loss: 0.4296 - val_acc: 0.7991\n",
      "Epoch 61/100\n",
      "6375/6375 [==============================] - 0s 47us/sample - loss: 0.4329 - acc: 0.7955 - val_loss: 0.4300 - val_acc: 0.7991\n",
      "Epoch 62/100\n",
      "6375/6375 [==============================] - 0s 48us/sample - loss: 0.4332 - acc: 0.7955 - val_loss: 0.4292 - val_acc: 0.7991\n",
      "Epoch 63/100\n",
      "6375/6375 [==============================] - 0s 50us/sample - loss: 0.4332 - acc: 0.7955 - val_loss: 0.4311 - val_acc: 0.7991\n",
      "Epoch 64/100\n",
      "6375/6375 [==============================] - 0s 50us/sample - loss: 0.4339 - acc: 0.7955 - val_loss: 0.4281 - val_acc: 0.7991\n",
      "Epoch 65/100\n",
      "6375/6375 [==============================] - 0s 50us/sample - loss: 0.4312 - acc: 0.7955 - val_loss: 0.4275 - val_acc: 0.7991\n",
      "Epoch 66/100\n",
      "6375/6375 [==============================] - 0s 50us/sample - loss: 0.4318 - acc: 0.7955 - val_loss: 0.4252 - val_acc: 0.7991\n",
      "Epoch 67/100\n",
      "6375/6375 [==============================] - 0s 56us/sample - loss: 0.4302 - acc: 0.7955 - val_loss: 0.4263 - val_acc: 0.7991\n",
      "Epoch 68/100\n",
      "6375/6375 [==============================] - 0s 51us/sample - loss: 0.4283 - acc: 0.7955 - val_loss: 0.4223 - val_acc: 0.7991\n",
      "Epoch 69/100\n",
      "6375/6375 [==============================] - 0s 51us/sample - loss: 0.4339 - acc: 0.7955 - val_loss: 0.4218 - val_acc: 0.7991\n",
      "Epoch 70/100\n",
      "6375/6375 [==============================] - 0s 52us/sample - loss: 0.4259 - acc: 0.7955 - val_loss: 0.4213 - val_acc: 0.7991\n",
      "Epoch 71/100\n",
      "6375/6375 [==============================] - 0s 50us/sample - loss: 0.4288 - acc: 0.7955 - val_loss: 0.4212 - val_acc: 0.7991\n",
      "Epoch 72/100\n",
      "6375/6375 [==============================] - 0s 50us/sample - loss: 0.4258 - acc: 0.7955 - val_loss: 0.4189 - val_acc: 0.7991\n",
      "Epoch 73/100\n",
      "6375/6375 [==============================] - 0s 52us/sample - loss: 0.4222 - acc: 0.7955 - val_loss: 0.4147 - val_acc: 0.7991\n",
      "Epoch 74/100\n",
      "6375/6375 [==============================] - 0s 48us/sample - loss: 0.4247 - acc: 0.7955 - val_loss: 0.4124 - val_acc: 0.7991\n",
      "Epoch 75/100\n",
      "6375/6375 [==============================] - 0s 52us/sample - loss: 0.4264 - acc: 0.7955 - val_loss: 0.4105 - val_acc: 0.7991\n",
      "Epoch 76/100\n",
      "6375/6375 [==============================] - 0s 51us/sample - loss: 0.4246 - acc: 0.7955 - val_loss: 0.4090 - val_acc: 0.7991\n",
      "Epoch 77/100\n",
      "6375/6375 [==============================] - 0s 51us/sample - loss: 0.4207 - acc: 0.7955 - val_loss: 0.4073 - val_acc: 0.7991\n",
      "Epoch 78/100\n",
      "6375/6375 [==============================] - 0s 50us/sample - loss: 0.4179 - acc: 0.7955 - val_loss: 0.4062 - val_acc: 0.7991\n",
      "Epoch 79/100\n",
      "6375/6375 [==============================] - 0s 51us/sample - loss: 0.4199 - acc: 0.7955 - val_loss: 0.4049 - val_acc: 0.7991\n",
      "Epoch 80/100\n",
      "6375/6375 [==============================] - 0s 47us/sample - loss: 0.4147 - acc: 0.7955 - val_loss: 0.4012 - val_acc: 0.7991\n",
      "Epoch 81/100\n",
      "6375/6375 [==============================] - 0s 50us/sample - loss: 0.4156 - acc: 0.7955 - val_loss: 0.4010 - val_acc: 0.7991\n",
      "Epoch 82/100\n",
      "6375/6375 [==============================] - 0s 51us/sample - loss: 0.4126 - acc: 0.7955 - val_loss: 0.3987 - val_acc: 0.7991\n",
      "Epoch 83/100\n",
      "6375/6375 [==============================] - 0s 50us/sample - loss: 0.4152 - acc: 0.7955 - val_loss: 0.3960 - val_acc: 0.7991\n",
      "Epoch 84/100\n",
      "6375/6375 [==============================] - 0s 50us/sample - loss: 0.4038 - acc: 0.7955 - val_loss: 0.3930 - val_acc: 0.7991\n",
      "Epoch 85/100\n",
      "6375/6375 [==============================] - 0s 51us/sample - loss: 0.4108 - acc: 0.7955 - val_loss: 0.3961 - val_acc: 0.7991\n",
      "Epoch 86/100\n",
      "6375/6375 [==============================] - 0s 47us/sample - loss: 0.4077 - acc: 0.7955 - val_loss: 0.3928 - val_acc: 0.7991\n",
      "Epoch 87/100\n",
      "6375/6375 [==============================] - 0s 52us/sample - loss: 0.4047 - acc: 0.7955 - val_loss: 0.3915 - val_acc: 0.7991\n",
      "Epoch 88/100\n",
      "6375/6375 [==============================] - 0s 50us/sample - loss: 0.4071 - acc: 0.8091 - val_loss: 0.3895 - val_acc: 0.8212\n",
      "Epoch 89/100\n",
      "6375/6375 [==============================] - 0s 51us/sample - loss: 0.4054 - acc: 0.8229 - val_loss: 0.3893 - val_acc: 0.8391\n",
      "Epoch 90/100\n",
      "6375/6375 [==============================] - 0s 52us/sample - loss: 0.4017 - acc: 0.8323 - val_loss: 0.3882 - val_acc: 0.8372\n",
      "Epoch 91/100\n",
      "6375/6375 [==============================] - 0s 51us/sample - loss: 0.4013 - acc: 0.8348 - val_loss: 0.3876 - val_acc: 0.8419\n",
      "Epoch 92/100\n",
      "6375/6375 [==============================] - 0s 48us/sample - loss: 0.3988 - acc: 0.8397 - val_loss: 0.3873 - val_acc: 0.8442\n",
      "Epoch 93/100\n",
      "6375/6375 [==============================] - 0s 50us/sample - loss: 0.3991 - acc: 0.8398 - val_loss: 0.3861 - val_acc: 0.8452\n",
      "Epoch 94/100\n",
      "6375/6375 [==============================] - 0s 50us/sample - loss: 0.4029 - acc: 0.8430 - val_loss: 0.3881 - val_acc: 0.8442\n",
      "Epoch 95/100\n",
      "6375/6375 [==============================] - 0s 50us/sample - loss: 0.3914 - acc: 0.8419 - val_loss: 0.3847 - val_acc: 0.8442\n",
      "Epoch 96/100\n",
      "6375/6375 [==============================] - 0s 50us/sample - loss: 0.3990 - acc: 0.8428 - val_loss: 0.3844 - val_acc: 0.8452\n",
      "Epoch 97/100\n",
      "6375/6375 [==============================] - 0s 51us/sample - loss: 0.3959 - acc: 0.8405 - val_loss: 0.3847 - val_acc: 0.8466\n",
      "Epoch 98/100\n",
      "6375/6375 [==============================] - 0s 68us/sample - loss: 0.3889 - acc: 0.8442 - val_loss: 0.3838 - val_acc: 0.8471\n",
      "Epoch 99/100\n",
      "6375/6375 [==============================] - 0s 50us/sample - loss: 0.3948 - acc: 0.8453 - val_loss: 0.3851 - val_acc: 0.8471\n",
      "Epoch 100/100\n",
      "6375/6375 [==============================] - 0s 44us/sample - loss: 0.4010 - acc: 0.8424 - val_loss: 0.3882 - val_acc: 0.8471\n"
     ]
    }
   ],
   "source": [
    "history = classifier.fit(X_train, y_train, validation_split=0.25, epochs=100, batch_size=32, verbose=1)"
   ]
  },
  {
   "cell_type": "code",
   "execution_count": 95,
   "metadata": {},
   "outputs": [
    {
     "data": {
      "image/png": "[encoded data removed]",
      "text/plain": [
       "<Figure size 432x288 with 1 Axes>"
      ]
     },
     "metadata": {
      "needs_background": "light"
     },
     "output_type": "display_data"
    }
   ],
   "source": [
    "plt.plot(history.history['acc'])\n",
    "plt.plot(history.history['val_acc'])\n",
    "plt.title('Model accuracy')\n",
    "plt.ylabel('Accuracy')\n",
    "plt.xlabel('Epoch')\n",
    "plt.legend(['Train', 'Test'], loc='upper left')\n",
    "plt.show()"
   ]
  },
  {
   "cell_type": "code",
   "execution_count": 96,
   "metadata": {
    "scrolled": true
   },
   "outputs": [
    {
     "data": {
      "image/png": "[encoded data removed]",
      "text/plain": [
       "<Figure size 432x288 with 1 Axes>"
      ]
     },
     "metadata": {
      "needs_background": "light"
     },
     "output_type": "display_data"
    }
   ],
   "source": [
    "plt.plot(history.history['loss'])\n",
    "plt.plot(history.history['val_loss'])\n",
    "plt.title('Model loss')\n",
    "plt.ylabel('Loss')\n",
    "plt.xlabel('Epoch')\n",
    "plt.legend(['Train', 'Test'], loc='upper left')\n",
    "plt.show()"
   ]
  },
  {
   "cell_type": "code",
   "execution_count": 99,
   "metadata": {},
   "outputs": [
    {
     "name": "stdout",
     "output_type": "stream",
     "text": [
      "Failed to import pydot. You must install pydot and graphviz for `pydotprint` to work.\n"
     ]
    }
   ],
   "source": []
  },
  {
   "cell_type": "code",
   "execution_count": 46,
   "metadata": {},
   "outputs": [
    {
     "data": {
      "text/plain": [
       "RowNumber          10000\n",
       "CustomerId         10000\n",
       "Surname             2932\n",
       "CreditScore          460\n",
       "Geography              3\n",
       "Gender                 2\n",
       "Age                   70\n",
       "Tenure                11\n",
       "Balance             6382\n",
       "NumOfProducts          4\n",
       "HasCrCard              2\n",
       "IsActiveMember         2\n",
       "EstimatedSalary     9999\n",
       "Exited                 2\n",
       "dtype: int64"
      ]
     },
     "execution_count": 46,
     "metadata": {},
     "output_type": "execute_result"
    }
   ],
   "source": [
    "dataset.nunique()"
   ]
  },
  {
   "cell_type": "code",
   "execution_count": 67,
   "metadata": {},
   "outputs": [
    {
     "data": {
      "text/plain": [
       "array([619, 0, 0, 42, 2, 0.0, 1, 1, 1, 101348.88], dtype=object)"
      ]
     },
     "execution_count": 67,
     "metadata": {},
     "output_type": "execute_result"
    }
   ],
   "source": [
    "X[0]"
   ]
  },
  {
   "cell_type": "code",
   "execution_count": null,
   "metadata": {},
   "outputs": [],
   "source": []
  }
 ],
 "metadata": {
  "kernelspec": {
   "display_name": "Python 3",
   "language": "python",
   "name": "python3"
  },
  "language_info": {
   "codemirror_mode": {
    "name": "ipython",
    "version": 3
   },
   "file_extension": ".py",
   "mimetype": "text/x-python",
   "name": "python",
   "nbconvert_exporter": "python",
   "pygments_lexer": "ipython3",
   "version": "3.6.7"
  }
 },
 "nbformat": 4,
 "nbformat_minor": 2
}
